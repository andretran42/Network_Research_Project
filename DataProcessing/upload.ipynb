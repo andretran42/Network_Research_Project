import pandas as pd
import matplotlib.pyplot as plt
import numpy as np 
from sklearn import datasets, linear_model
from sklearn.metrics import mean_squared_error
import ipaddress
import glob
import os
import tensorflow as tf
from sklearn.model_selection import train_test_split as tts      
from sklearn.preprocessing import StandardScaler as SS
from sklearn.metrics import confusion_matrix as CM 
from sklearn.metrics import classification_report
from sklearn.linear_model import LinearRegression as LR
from sklearn.ensemble import RandomForestClassifier as RFC
from sklearn.tree import DecisionTreeClassifier as dtc
from sklearn import tree 

# ['fortnite1_continuousupdown.csv', 'Wikipedia2_singledown.csv', 'hulu3_continuous-download.csv', 'Wikipedia5_singledown.csv', 
#  'chatgpt3_singleupdown.csv', 'ryrod2_singledown.csv', 'ryrod3_singledown.csv', 'amazon1_singleupdown.csv', 'bing3_singleupdown.csv', 
#  'Wikipedia4_singledown.csv', 'Wikipedia3_singledown.csv', 'discord3_continuousupdown.csv', 'Wikipedia1_singledown.csv', 
#  'amazon4_singleupdown.csv', 'ryrod1_singledown.csv', 'chatgpt2_singleupdown.csv', 'bing_singleupdown.csv', 'chatgpt_singleupdown.csv', 
#  'bing2_singleupdown.csv', 'discord2_continuousupdown.csv','minecraft1_continuousupdown.csv', 'minecraft4_continuousupdown.csv', 'ugm5_singledown.csv', 
#  'minecraft2_continuousupdown.csv', 'bing5_singleupdown.csv', 'discord1_continuousupdown.csv', 'discord4_continuousupdown.csv', 'ugm2_singledown.csv', 
#  'ugm3_singledown.csv', 'fortnite3_continuousupdown.csv', 'hulu2_continuous-download.csv', 'ugm4_singledown.csv', 'amazon3_singleupdown.csv', 
#  'bing4_singleupdown.csv','hulu1_continuous-download.csv', 'ugm1_singledown.csv', 'minecraft3_continuousupdown.csv', 'chatgpt4_singleupdown.csv', 
#  'amazon2_singleupdown.csv', 'fortnite2_continuousupdown.csv']


#DATA PROCESSING#

#Include all .csv files in directory of this code #

all_files = glob.glob("*.csv")
print(all_files)
li = []
#print(path)
data = pd.concat((pd.read_csv(f,index_col='No.') for f in all_files),ignore_index=True)

#Init Website Target#
data['Website'] = 100

#Website Target Labels and IP Addresses#
#SINGLE UP DOWN #
# (1-5) Wikipedia = 0
wiki_src_dest = ["208.80.154.224"] #TCP
data.loc[data['Source'] == wiki_src_dest[0],'Website'] = 0 
data.loc[data['Destination'] == wiki_src_dest[0],'Website'] = 0 

# (1-4) Amazon = 1
amaz_src_dest = ["18.160.17.214","18.165.77.79"] #TCP
data.loc[data['Source'] == amaz_src_dest[0],'Website'] = 1
data.loc[data['Source'] == amaz_src_dest[1],'Website'] = 1
data.loc[data['Destination'] == amaz_src_dest[0],'Website'] = 1
data.loc[data['Destination'] == amaz_src_dest[1],'Website'] = 1

# (1-5) Bing = 2
bing_src_dest = ["204.79.197.200"] #TCP
data.loc[data['Source'] == bing_src_dest[0],'Website'] = 2
data.loc[data['Destination'] == bing_src_dest[0],'Website'] = 2

# (1-4) ChatGPT = 3 
chat_src_dest = ["104.18.37.228"] # TCP
data.loc[data['Source'] == chat_src_dest[0],'Website'] = 3
data.loc[data['Destination'] == chat_src_dest[0],'Website'] = 3

#CONTINUOUS UP DOWN #
# (1-4) Discord CHAT CONTINUOUS = 4
discCHAT_src_dest = ["66.22.231.191"] # UDP
data.loc[data['Source'] == discCHAT_src_dest[0],'Website'] = 4
data.loc[data['Destination'] == discCHAT_src_dest[0],'Website'] = 4

# (1-3) Fortnite = 5
fort_src_dest = ["20.36.181.22","3.129.219.222","3.144.65.185"] # UDP
data.loc[data['Source'] == fort_src_dest[0],'Website'] = 5
data.loc[data['Source'] == fort_src_dest[1],'Website'] = 5
data.loc[data['Source'] == fort_src_dest[2],'Website'] = 5
data.loc[data['Destination'] == fort_src_dest[0],'Website'] = 5
data.loc[data['Destination'] == fort_src_dest[1],'Website'] = 5
data.loc[data['Destination'] == fort_src_dest[2],'Website'] = 5

# (1-4) Minecraft = 6
mine_src_dest = ["209.222.115.47","104.234.169.167","31.25.11.18","31.25.11.55"]
data.loc[data['Source'] == mine_src_dest[0],'Website'] = 6
data.loc[data['Source'] == mine_src_dest[1],'Website'] = 6
data.loc[data['Source'] == mine_src_dest[2],'Website'] = 6
data.loc[data['Source'] == mine_src_dest[3],'Website'] = 6
data.loc[data['Destination'] == mine_src_dest[0],'Website'] = 6
data.loc[data['Destination'] == mine_src_dest[1],'Website'] = 6
data.loc[data['Destination'] == mine_src_dest[2],'Website'] = 6
data.loc[data['Destination'] == mine_src_dest[3],'Website'] = 6

#SINGLE DOWN #
#ryrob (1-3) = 7
ryrob_src_dest = ["172.66.40.147"] #QUIC
data.loc[data['Source'] == ryrob_src_dest[0],'Website'] = 7
data.loc[data['Destination'] == ryrob_src_dest[0],'Website'] = 7

#ugm.org (1-5) = 8
ugm_src_dest = ["13.84.36.2"] #TCP TLSv1.2
data.loc[data['Source'] == ugm_src_dest[0],'Website'] = 8
data.loc[data['Destination'] == ugm_src_dest[0],'Website'] = 8

#CONTINUOUS DOWN #
#(1-3) HULU = 9
hulu_src_dest = ["23.48.104.108", "23.48.104.112","23.48.104.110"] #TCP TLSv1.2
data.loc[data['Source'] == hulu_src_dest[0],'Website'] = 9
data.loc[data['Source'] == hulu_src_dest[1],'Website'] = 9
data.loc[data['Source'] == hulu_src_dest[2],'Website'] = 9
data.loc[data['Destination'] == hulu_src_dest[0],'Website'] = 9
data.loc[data['Destination'] == hulu_src_dest[1],'Website'] = 9
data.loc[data['Destination'] == hulu_src_dest[2],'Website'] = 9

#
data.drop(columns = ['Info'], inplace = True)
#Drop random IP addresses and Protocol
data = data.drop(data[data['Website'] == 100].index)
# data = data.drop(data[data['Protocol'] == "RTCP"].index)
#Convert IP addresses to Integers
data['Source'] = data['Source'].apply(lambda x : int(ipaddress.ip_address(x)))
data['Destination'] = data['Destination'].apply(lambda x : int(ipaddress.ip_address(x)))

#Convert Protocols to ints
#QUIC = 1
#TCP/TLS = 2
#UDP = 3 
#RTCP = 4
data.loc[data['Protocol'] == "QUIC",'Protocol'] = 1
data.loc[data['Protocol'] == "TLSv1.2",'Protocol'] = 2
data.loc[data['Protocol'] == "TLSv1.3",'Protocol'] = 2
data.loc[data['Protocol'] == "TCP",'Protocol'] = 2
data.loc[data['Protocol'] == "UDP",'Protocol'] = 3
data.loc[data['Protocol'] == "RTCP",'Protocol'] = 4

